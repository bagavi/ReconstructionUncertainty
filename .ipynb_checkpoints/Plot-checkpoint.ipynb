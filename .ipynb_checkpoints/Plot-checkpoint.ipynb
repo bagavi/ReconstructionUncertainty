{
 "cells": [
  {
   "cell_type": "code",
   "execution_count": 5,
   "metadata": {
    "collapsed": false
   },
   "outputs": [
    {
     "name": "stdout",
     "output_type": "stream",
     "text": [
      "[[ 3  4  1]\n",
      " [ 5  9  1]\n",
      " [ 7 14  1]]\n"
     ]
    }
   ],
   "source": [
    "import CommonFunctions\n",
    "import numpy as np\n",
    "import matplotlib\n",
    "#Array = CommonFunctions.FiletoArray('Read_lengthsBuchnera_aphidicola.csv', Int=True, Offset = 1)\n",
    "DataCoulmns = [ 0,1,2 ]\n",
    "Array = [\n",
    "        [2,3,4,True],\n",
    "        [3,5,9,True],\n",
    "        [4,7,14,True],\n",
    "]\n",
    "\n",
    "Array = np.array(Array)\n",
    "\n",
    "print(Array[:, DataColumns)"
   ]
  },
  {
   "cell_type": "code",
   "execution_count": null,
   "metadata": {
    "collapsed": true
   },
   "outputs": [],
   "source": []
  }
 ],
 "metadata": {
  "kernelspec": {
   "display_name": "Python 2",
   "language": "python",
   "name": "python2"
  },
  "language_info": {
   "codemirror_mode": {
    "name": "ipython",
    "version": 2
   },
   "file_extension": ".py",
   "mimetype": "text/x-python",
   "name": "python",
   "nbconvert_exporter": "python",
   "pygments_lexer": "ipython2",
   "version": "2.7.6"
  }
 },
 "nbformat": 4,
 "nbformat_minor": 0
}
